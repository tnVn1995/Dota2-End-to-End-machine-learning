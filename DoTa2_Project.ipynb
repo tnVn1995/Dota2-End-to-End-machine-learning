{
 "cells": [
  {
   "cell_type": "markdown",
   "metadata": {},
   "source": [
    "# Hello ! Welcome to My First End to End Maching Learning Project. \n",
    "** In this notebook, I will explore a very iteresting set of data, my own dota2 matches. The data is taken from opendota.com through api calls. I won't go into details about how I get them here( the data source is from opendota). Rather, in this notebook, I will explore features of my matches that contribute to me winning my games. **"
   ]
  },
  {
   "cell_type": "code",
   "execution_count": 1,
   "metadata": {
    "collapsed": true
   },
   "outputs": [],
   "source": [
    "import pandas as pd\n",
    "import numpy as np\n"
   ]
  },
  {
   "cell_type": "markdown",
   "metadata": {},
   "source": [
    "## Introduction\n",
    "Dota2 is a strategic game in which two teams(Radiant vs Dire) will play against each other in a match. Each team consists of 5 players that will have to work together to take the best use of the in-game resources to win the match. In order for a team to win a match, they will have to destroy the opposing team's ancient throne before theirs get destroyed by their opponents. Each player will play the game using one of the heroes in a pool of about 128 heroes (there might have been more added heroes now, that's why I give an estimate here). Each hero has their own set of abilities that could assist players in achieving their ultimate goal of destroying their opponents' ancient throne.  "
   ]
  },
  {
   "cell_type": "markdown",
   "metadata": {},
   "source": [
    "Now let's load my dota2 dataset"
   ]
  },
  {
   "cell_type": "code",
   "execution_count": 2,
   "metadata": {},
   "outputs": [
    {
     "name": "stderr",
     "output_type": "stream",
     "text": [
      "C:\\Users\\tnguy\\Anaconda3\\lib\\site-packages\\IPython\\core\\interactiveshell.py:2698: DtypeWarning: Columns (27,59,62,68) have mixed types. Specify dtype option on import or set low_memory=False.\n",
      "  interactivity=interactivity, compiler=compiler, result=result)\n",
      "C:\\Users\\tnguy\\Anaconda3\\lib\\site-packages\\ipykernel_launcher.py:2: FutureWarning: pandas.lib is deprecated and will be removed in a future version.\n",
      "You can access infer_dtype as pandas.api.types.infer_dtype\n",
      "  \n"
     ]
    },
    {
     "data": {
      "text/plain": [
       "abandons                    integer\n",
       "account_id                 floating\n",
       "actions_per_min            floating\n",
       "ancient_kills              floating\n",
       "assists                     integer\n",
       "backpack_0                 floating\n",
       "backpack_1                 floating\n",
       "backpack_2                 floating\n",
       "buyback_count              floating\n",
       "camps_stacked              floating\n",
       "cluster                     integer\n",
       "courier_kills              floating\n",
       "creeps_stacked             floating\n",
       "deaths                      integer\n",
       "denies                      integer\n",
       "duration                    integer\n",
       "firstblood_claimed         floating\n",
       "game_mode                   integer\n",
       "gold                       floating\n",
       "gold_per_min                integer\n",
       "gold_spent                 floating\n",
       "hero_damage                floating\n",
       "hero_healing               floating\n",
       "hero_id                     integer\n",
       "hero_kills                 floating\n",
       "isRadiant                   boolean\n",
       "is_contributor              boolean\n",
       "is_roaming                    mixed\n",
       "item_0                      integer\n",
       "item_1                      integer\n",
       "                             ...   \n",
       "patch                      floating\n",
       "performance_others            mixed\n",
       "pings                      floating\n",
       "player_slot                 integer\n",
       "pred_vict                     mixed\n",
       "purchase_gem               floating\n",
       "purchase_rapier            floating\n",
       "purchase_ward_observer     floating\n",
       "purchase_ward_sentry       floating\n",
       "radiant_win                 boolean\n",
       "randomed                      mixed\n",
       "rank_tier                  floating\n",
       "region                     floating\n",
       "repicked                   floating\n",
       "roshan_kills               floating\n",
       "roshans_killed             floating\n",
       "rune_pickups               floating\n",
       "sen_placed                 floating\n",
       "sentry_kills               floating\n",
       "sentry_uses                floating\n",
       "start_time                  integer\n",
       "stuns                      floating\n",
       "teamfight_participation    floating\n",
       "total_gold                  integer\n",
       "total_xp                   floating\n",
       "tower_damage               floating\n",
       "tower_kills                floating\n",
       "towers_killed              floating\n",
       "win                         integer\n",
       "xp_per_min                  integer\n",
       "Length: 88, dtype: object"
      ]
     },
     "execution_count": 2,
     "metadata": {},
     "output_type": "execute_result"
    }
   ],
   "source": [
    "### load the dataset from my file location\n",
    "df = pd.read_csv(r'C:\\Users\\tnguy\\Desktop\\resultss.csv', encoding = 'utf8')\n",
    "df.apply(lambda x: pd.lib.infer_dtype(x.values))"
   ]
  },
  {
   "cell_type": "markdown",
   "metadata": {},
   "source": [
    "Let's take a look at the first 5 examples in my dataset"
   ]
  },
  {
   "cell_type": "code",
   "execution_count": 3,
   "metadata": {},
   "outputs": [
    {
     "data": {
      "text/html": [
       "<div>\n",
       "<style>\n",
       "    .dataframe thead tr:only-child th {\n",
       "        text-align: right;\n",
       "    }\n",
       "\n",
       "    .dataframe thead th {\n",
       "        text-align: left;\n",
       "    }\n",
       "\n",
       "    .dataframe tbody tr th {\n",
       "        vertical-align: top;\n",
       "    }\n",
       "</style>\n",
       "<table border=\"1\" class=\"dataframe\">\n",
       "  <thead>\n",
       "    <tr style=\"text-align: right;\">\n",
       "      <th></th>\n",
       "      <th>abandons</th>\n",
       "      <th>account_id</th>\n",
       "      <th>actions_per_min</th>\n",
       "      <th>ancient_kills</th>\n",
       "      <th>assists</th>\n",
       "      <th>backpack_0</th>\n",
       "      <th>backpack_1</th>\n",
       "      <th>backpack_2</th>\n",
       "      <th>buyback_count</th>\n",
       "      <th>camps_stacked</th>\n",
       "      <th>...</th>\n",
       "      <th>start_time</th>\n",
       "      <th>stuns</th>\n",
       "      <th>teamfight_participation</th>\n",
       "      <th>total_gold</th>\n",
       "      <th>total_xp</th>\n",
       "      <th>tower_damage</th>\n",
       "      <th>tower_kills</th>\n",
       "      <th>towers_killed</th>\n",
       "      <th>win</th>\n",
       "      <th>xp_per_min</th>\n",
       "    </tr>\n",
       "  </thead>\n",
       "  <tbody>\n",
       "    <tr>\n",
       "      <th>0</th>\n",
       "      <td>0</td>\n",
       "      <td>381798591.0</td>\n",
       "      <td>131.0</td>\n",
       "      <td>0.0</td>\n",
       "      <td>10</td>\n",
       "      <td>0.0</td>\n",
       "      <td>0.0</td>\n",
       "      <td>0.0</td>\n",
       "      <td>0.0</td>\n",
       "      <td>0.0</td>\n",
       "      <td>...</td>\n",
       "      <td>1527006038</td>\n",
       "      <td>26.178345</td>\n",
       "      <td>0.500000</td>\n",
       "      <td>22246</td>\n",
       "      <td>27965.0</td>\n",
       "      <td>4784.0</td>\n",
       "      <td>3.0</td>\n",
       "      <td>3.0</td>\n",
       "      <td>1</td>\n",
       "      <td>714</td>\n",
       "    </tr>\n",
       "    <tr>\n",
       "      <th>1</th>\n",
       "      <td>0</td>\n",
       "      <td>NaN</td>\n",
       "      <td>176.0</td>\n",
       "      <td>0.0</td>\n",
       "      <td>12</td>\n",
       "      <td>0.0</td>\n",
       "      <td>0.0</td>\n",
       "      <td>0.0</td>\n",
       "      <td>0.0</td>\n",
       "      <td>3.0</td>\n",
       "      <td>...</td>\n",
       "      <td>1527006038</td>\n",
       "      <td>0.000000</td>\n",
       "      <td>0.526316</td>\n",
       "      <td>16724</td>\n",
       "      <td>18721.0</td>\n",
       "      <td>1458.0</td>\n",
       "      <td>0.0</td>\n",
       "      <td>0.0</td>\n",
       "      <td>1</td>\n",
       "      <td>478</td>\n",
       "    </tr>\n",
       "    <tr>\n",
       "      <th>2</th>\n",
       "      <td>0</td>\n",
       "      <td>NaN</td>\n",
       "      <td>192.0</td>\n",
       "      <td>0.0</td>\n",
       "      <td>17</td>\n",
       "      <td>0.0</td>\n",
       "      <td>0.0</td>\n",
       "      <td>0.0</td>\n",
       "      <td>0.0</td>\n",
       "      <td>0.0</td>\n",
       "      <td>...</td>\n",
       "      <td>1527006038</td>\n",
       "      <td>43.595947</td>\n",
       "      <td>0.684211</td>\n",
       "      <td>13238</td>\n",
       "      <td>14961.0</td>\n",
       "      <td>381.0</td>\n",
       "      <td>0.0</td>\n",
       "      <td>0.0</td>\n",
       "      <td>1</td>\n",
       "      <td>382</td>\n",
       "    </tr>\n",
       "    <tr>\n",
       "      <th>3</th>\n",
       "      <td>0</td>\n",
       "      <td>110870904.0</td>\n",
       "      <td>150.0</td>\n",
       "      <td>0.0</td>\n",
       "      <td>17</td>\n",
       "      <td>0.0</td>\n",
       "      <td>0.0</td>\n",
       "      <td>0.0</td>\n",
       "      <td>0.0</td>\n",
       "      <td>0.0</td>\n",
       "      <td>...</td>\n",
       "      <td>1527006038</td>\n",
       "      <td>7.492188</td>\n",
       "      <td>0.578947</td>\n",
       "      <td>14530</td>\n",
       "      <td>20249.0</td>\n",
       "      <td>83.0</td>\n",
       "      <td>0.0</td>\n",
       "      <td>0.0</td>\n",
       "      <td>1</td>\n",
       "      <td>517</td>\n",
       "    </tr>\n",
       "    <tr>\n",
       "      <th>4</th>\n",
       "      <td>0</td>\n",
       "      <td>NaN</td>\n",
       "      <td>94.0</td>\n",
       "      <td>12.0</td>\n",
       "      <td>9</td>\n",
       "      <td>182.0</td>\n",
       "      <td>0.0</td>\n",
       "      <td>181.0</td>\n",
       "      <td>0.0</td>\n",
       "      <td>0.0</td>\n",
       "      <td>...</td>\n",
       "      <td>1527006038</td>\n",
       "      <td>0.000000</td>\n",
       "      <td>0.368421</td>\n",
       "      <td>23539</td>\n",
       "      <td>27886.0</td>\n",
       "      <td>7723.0</td>\n",
       "      <td>2.0</td>\n",
       "      <td>2.0</td>\n",
       "      <td>1</td>\n",
       "      <td>712</td>\n",
       "    </tr>\n",
       "  </tbody>\n",
       "</table>\n",
       "<p>5 rows × 88 columns</p>\n",
       "</div>"
      ],
      "text/plain": [
       "   abandons   account_id  actions_per_min  ancient_kills  assists  backpack_0  \\\n",
       "0         0  381798591.0            131.0            0.0       10         0.0   \n",
       "1         0          NaN            176.0            0.0       12         0.0   \n",
       "2         0          NaN            192.0            0.0       17         0.0   \n",
       "3         0  110870904.0            150.0            0.0       17         0.0   \n",
       "4         0          NaN             94.0           12.0        9       182.0   \n",
       "\n",
       "   backpack_1  backpack_2  buyback_count  camps_stacked     ...      \\\n",
       "0         0.0         0.0            0.0            0.0     ...       \n",
       "1         0.0         0.0            0.0            3.0     ...       \n",
       "2         0.0         0.0            0.0            0.0     ...       \n",
       "3         0.0         0.0            0.0            0.0     ...       \n",
       "4         0.0       181.0            0.0            0.0     ...       \n",
       "\n",
       "   start_time      stuns  teamfight_participation  total_gold  total_xp  \\\n",
       "0  1527006038  26.178345                 0.500000       22246   27965.0   \n",
       "1  1527006038   0.000000                 0.526316       16724   18721.0   \n",
       "2  1527006038  43.595947                 0.684211       13238   14961.0   \n",
       "3  1527006038   7.492188                 0.578947       14530   20249.0   \n",
       "4  1527006038   0.000000                 0.368421       23539   27886.0   \n",
       "\n",
       "   tower_damage  tower_kills  towers_killed  win  xp_per_min  \n",
       "0        4784.0          3.0            3.0    1         714  \n",
       "1        1458.0          0.0            0.0    1         478  \n",
       "2         381.0          0.0            0.0    1         382  \n",
       "3          83.0          0.0            0.0    1         517  \n",
       "4        7723.0          2.0            2.0    1         712  \n",
       "\n",
       "[5 rows x 88 columns]"
      ]
     },
     "execution_count": 3,
     "metadata": {},
     "output_type": "execute_result"
    }
   ],
   "source": [
    "### get the first 5 rows of my match data\n",
    "df.head()"
   ]
  },
  {
   "cell_type": "markdown",
   "metadata": {},
   "source": [
    "The dataset contains 88 features in a match with information about all ten individual players in the same match"
   ]
  },
  {
   "cell_type": "markdown",
   "metadata": {},
   "source": [
    "Let's get my match details"
   ]
  },
  {
   "cell_type": "code",
   "execution_count": 4,
   "metadata": {
    "collapsed": true
   },
   "outputs": [],
   "source": [
    "### get my match_details using my account_id\n",
    "df_my_match = df[df['account_id'] == 120236951] \n"
   ]
  },
  {
   "cell_type": "code",
   "execution_count": 5,
   "metadata": {
    "scrolled": true
   },
   "outputs": [
    {
     "data": {
      "text/html": [
       "<div>\n",
       "<style>\n",
       "    .dataframe thead tr:only-child th {\n",
       "        text-align: right;\n",
       "    }\n",
       "\n",
       "    .dataframe thead th {\n",
       "        text-align: left;\n",
       "    }\n",
       "\n",
       "    .dataframe tbody tr th {\n",
       "        vertical-align: top;\n",
       "    }\n",
       "</style>\n",
       "<table border=\"1\" class=\"dataframe\">\n",
       "  <thead>\n",
       "    <tr style=\"text-align: right;\">\n",
       "      <th></th>\n",
       "      <th>abandons</th>\n",
       "      <th>account_id</th>\n",
       "      <th>actions_per_min</th>\n",
       "      <th>ancient_kills</th>\n",
       "      <th>assists</th>\n",
       "      <th>backpack_0</th>\n",
       "      <th>backpack_1</th>\n",
       "      <th>backpack_2</th>\n",
       "      <th>buyback_count</th>\n",
       "      <th>camps_stacked</th>\n",
       "      <th>...</th>\n",
       "      <th>start_time</th>\n",
       "      <th>stuns</th>\n",
       "      <th>teamfight_participation</th>\n",
       "      <th>total_gold</th>\n",
       "      <th>total_xp</th>\n",
       "      <th>tower_damage</th>\n",
       "      <th>tower_kills</th>\n",
       "      <th>towers_killed</th>\n",
       "      <th>win</th>\n",
       "      <th>xp_per_min</th>\n",
       "    </tr>\n",
       "  </thead>\n",
       "  <tbody>\n",
       "    <tr>\n",
       "      <th>count</th>\n",
       "      <td>2947.000000</td>\n",
       "      <td>2947.0</td>\n",
       "      <td>562.000000</td>\n",
       "      <td>577.000000</td>\n",
       "      <td>2947.00000</td>\n",
       "      <td>1217.000000</td>\n",
       "      <td>1217.000000</td>\n",
       "      <td>1217.000000</td>\n",
       "      <td>577.000000</td>\n",
       "      <td>354.000000</td>\n",
       "      <td>...</td>\n",
       "      <td>2.947000e+03</td>\n",
       "      <td>532.000000</td>\n",
       "      <td>159.000000</td>\n",
       "      <td>2947.000000</td>\n",
       "      <td>2946.000000</td>\n",
       "      <td>2656.000000</td>\n",
       "      <td>577.000000</td>\n",
       "      <td>159.00000</td>\n",
       "      <td>2947.000000</td>\n",
       "      <td>2947.000000</td>\n",
       "    </tr>\n",
       "    <tr>\n",
       "      <th>mean</th>\n",
       "      <td>0.003393</td>\n",
       "      <td>120236951.0</td>\n",
       "      <td>116.421708</td>\n",
       "      <td>5.774697</td>\n",
       "      <td>12.27791</td>\n",
       "      <td>35.657354</td>\n",
       "      <td>20.450288</td>\n",
       "      <td>12.803615</td>\n",
       "      <td>0.483536</td>\n",
       "      <td>0.387006</td>\n",
       "      <td>...</td>\n",
       "      <td>1.459668e+09</td>\n",
       "      <td>23.838787</td>\n",
       "      <td>0.592307</td>\n",
       "      <td>20350.437394</td>\n",
       "      <td>21594.756280</td>\n",
       "      <td>2376.321160</td>\n",
       "      <td>1.448873</td>\n",
       "      <td>1.54717</td>\n",
       "      <td>0.501866</td>\n",
       "      <td>513.122837</td>\n",
       "    </tr>\n",
       "    <tr>\n",
       "      <th>std</th>\n",
       "      <td>0.058163</td>\n",
       "      <td>0.0</td>\n",
       "      <td>27.892110</td>\n",
       "      <td>9.090852</td>\n",
       "      <td>6.68807</td>\n",
       "      <td>63.816362</td>\n",
       "      <td>50.635365</td>\n",
       "      <td>41.692839</td>\n",
       "      <td>0.716974</td>\n",
       "      <td>1.090755</td>\n",
       "      <td>...</td>\n",
       "      <td>4.781280e+07</td>\n",
       "      <td>29.393957</td>\n",
       "      <td>0.145757</td>\n",
       "      <td>8469.200424</td>\n",
       "      <td>8242.339394</td>\n",
       "      <td>2840.554363</td>\n",
       "      <td>1.720355</td>\n",
       "      <td>1.64470</td>\n",
       "      <td>0.500081</td>\n",
       "      <td>138.915350</td>\n",
       "    </tr>\n",
       "    <tr>\n",
       "      <th>min</th>\n",
       "      <td>0.000000</td>\n",
       "      <td>120236951.0</td>\n",
       "      <td>39.000000</td>\n",
       "      <td>0.000000</td>\n",
       "      <td>0.00000</td>\n",
       "      <td>0.000000</td>\n",
       "      <td>0.000000</td>\n",
       "      <td>0.000000</td>\n",
       "      <td>0.000000</td>\n",
       "      <td>0.000000</td>\n",
       "      <td>...</td>\n",
       "      <td>0.000000e+00</td>\n",
       "      <td>-6.384017</td>\n",
       "      <td>0.000000</td>\n",
       "      <td>703.000000</td>\n",
       "      <td>435.000000</td>\n",
       "      <td>0.000000</td>\n",
       "      <td>0.000000</td>\n",
       "      <td>0.00000</td>\n",
       "      <td>0.000000</td>\n",
       "      <td>0.000000</td>\n",
       "    </tr>\n",
       "    <tr>\n",
       "      <th>25%</th>\n",
       "      <td>0.000000</td>\n",
       "      <td>120236951.0</td>\n",
       "      <td>98.250000</td>\n",
       "      <td>0.000000</td>\n",
       "      <td>7.00000</td>\n",
       "      <td>0.000000</td>\n",
       "      <td>0.000000</td>\n",
       "      <td>0.000000</td>\n",
       "      <td>0.000000</td>\n",
       "      <td>0.000000</td>\n",
       "      <td>...</td>\n",
       "      <td>1.430503e+09</td>\n",
       "      <td>0.200549</td>\n",
       "      <td>0.513900</td>\n",
       "      <td>14063.500000</td>\n",
       "      <td>15230.500000</td>\n",
       "      <td>216.750000</td>\n",
       "      <td>0.000000</td>\n",
       "      <td>0.00000</td>\n",
       "      <td>0.000000</td>\n",
       "      <td>415.000000</td>\n",
       "    </tr>\n",
       "    <tr>\n",
       "      <th>50%</th>\n",
       "      <td>0.000000</td>\n",
       "      <td>120236951.0</td>\n",
       "      <td>110.500000</td>\n",
       "      <td>2.000000</td>\n",
       "      <td>11.00000</td>\n",
       "      <td>0.000000</td>\n",
       "      <td>0.000000</td>\n",
       "      <td>0.000000</td>\n",
       "      <td>0.000000</td>\n",
       "      <td>0.000000</td>\n",
       "      <td>...</td>\n",
       "      <td>1.461958e+09</td>\n",
       "      <td>14.457111</td>\n",
       "      <td>0.620690</td>\n",
       "      <td>19532.000000</td>\n",
       "      <td>21559.500000</td>\n",
       "      <td>1109.000000</td>\n",
       "      <td>1.000000</td>\n",
       "      <td>1.00000</td>\n",
       "      <td>1.000000</td>\n",
       "      <td>521.000000</td>\n",
       "    </tr>\n",
       "    <tr>\n",
       "      <th>75%</th>\n",
       "      <td>0.000000</td>\n",
       "      <td>120236951.0</td>\n",
       "      <td>125.750000</td>\n",
       "      <td>9.000000</td>\n",
       "      <td>16.00000</td>\n",
       "      <td>46.000000</td>\n",
       "      <td>0.000000</td>\n",
       "      <td>0.000000</td>\n",
       "      <td>1.000000</td>\n",
       "      <td>0.000000</td>\n",
       "      <td>...</td>\n",
       "      <td>1.491524e+09</td>\n",
       "      <td>36.181525</td>\n",
       "      <td>0.692308</td>\n",
       "      <td>25468.000000</td>\n",
       "      <td>27933.500000</td>\n",
       "      <td>3760.000000</td>\n",
       "      <td>2.000000</td>\n",
       "      <td>2.00000</td>\n",
       "      <td>1.000000</td>\n",
       "      <td>615.500000</td>\n",
       "    </tr>\n",
       "    <tr>\n",
       "      <th>max</th>\n",
       "      <td>1.000000</td>\n",
       "      <td>120236951.0</td>\n",
       "      <td>207.000000</td>\n",
       "      <td>96.000000</td>\n",
       "      <td>45.00000</td>\n",
       "      <td>265.000000</td>\n",
       "      <td>265.000000</td>\n",
       "      <td>265.000000</td>\n",
       "      <td>5.000000</td>\n",
       "      <td>16.000000</td>\n",
       "      <td>...</td>\n",
       "      <td>1.527006e+09</td>\n",
       "      <td>192.823560</td>\n",
       "      <td>0.897959</td>\n",
       "      <td>58020.000000</td>\n",
       "      <td>59238.000000</td>\n",
       "      <td>16839.000000</td>\n",
       "      <td>9.000000</td>\n",
       "      <td>7.00000</td>\n",
       "      <td>1.000000</td>\n",
       "      <td>934.000000</td>\n",
       "    </tr>\n",
       "  </tbody>\n",
       "</table>\n",
       "<p>8 rows × 79 columns</p>\n",
       "</div>"
      ],
      "text/plain": [
       "          abandons   account_id  actions_per_min  ancient_kills     assists  \\\n",
       "count  2947.000000       2947.0       562.000000     577.000000  2947.00000   \n",
       "mean      0.003393  120236951.0       116.421708       5.774697    12.27791   \n",
       "std       0.058163          0.0        27.892110       9.090852     6.68807   \n",
       "min       0.000000  120236951.0        39.000000       0.000000     0.00000   \n",
       "25%       0.000000  120236951.0        98.250000       0.000000     7.00000   \n",
       "50%       0.000000  120236951.0       110.500000       2.000000    11.00000   \n",
       "75%       0.000000  120236951.0       125.750000       9.000000    16.00000   \n",
       "max       1.000000  120236951.0       207.000000      96.000000    45.00000   \n",
       "\n",
       "        backpack_0   backpack_1   backpack_2  buyback_count  camps_stacked  \\\n",
       "count  1217.000000  1217.000000  1217.000000     577.000000     354.000000   \n",
       "mean     35.657354    20.450288    12.803615       0.483536       0.387006   \n",
       "std      63.816362    50.635365    41.692839       0.716974       1.090755   \n",
       "min       0.000000     0.000000     0.000000       0.000000       0.000000   \n",
       "25%       0.000000     0.000000     0.000000       0.000000       0.000000   \n",
       "50%       0.000000     0.000000     0.000000       0.000000       0.000000   \n",
       "75%      46.000000     0.000000     0.000000       1.000000       0.000000   \n",
       "max     265.000000   265.000000   265.000000       5.000000      16.000000   \n",
       "\n",
       "          ...         start_time       stuns  teamfight_participation  \\\n",
       "count     ...       2.947000e+03  532.000000               159.000000   \n",
       "mean      ...       1.459668e+09   23.838787                 0.592307   \n",
       "std       ...       4.781280e+07   29.393957                 0.145757   \n",
       "min       ...       0.000000e+00   -6.384017                 0.000000   \n",
       "25%       ...       1.430503e+09    0.200549                 0.513900   \n",
       "50%       ...       1.461958e+09   14.457111                 0.620690   \n",
       "75%       ...       1.491524e+09   36.181525                 0.692308   \n",
       "max       ...       1.527006e+09  192.823560                 0.897959   \n",
       "\n",
       "         total_gold      total_xp  tower_damage  tower_kills  towers_killed  \\\n",
       "count   2947.000000   2946.000000   2656.000000   577.000000      159.00000   \n",
       "mean   20350.437394  21594.756280   2376.321160     1.448873        1.54717   \n",
       "std     8469.200424   8242.339394   2840.554363     1.720355        1.64470   \n",
       "min      703.000000    435.000000      0.000000     0.000000        0.00000   \n",
       "25%    14063.500000  15230.500000    216.750000     0.000000        0.00000   \n",
       "50%    19532.000000  21559.500000   1109.000000     1.000000        1.00000   \n",
       "75%    25468.000000  27933.500000   3760.000000     2.000000        2.00000   \n",
       "max    58020.000000  59238.000000  16839.000000     9.000000        7.00000   \n",
       "\n",
       "               win   xp_per_min  \n",
       "count  2947.000000  2947.000000  \n",
       "mean      0.501866   513.122837  \n",
       "std       0.500081   138.915350  \n",
       "min       0.000000     0.000000  \n",
       "25%       0.000000   415.000000  \n",
       "50%       1.000000   521.000000  \n",
       "75%       1.000000   615.500000  \n",
       "max       1.000000   934.000000  \n",
       "\n",
       "[8 rows x 79 columns]"
      ]
     },
     "execution_count": 5,
     "metadata": {},
     "output_type": "execute_result"
    }
   ],
   "source": [
    "### get a general view of the distribution of my matches' features\n",
    "df_my_match.describe()"
   ]
  },
  {
   "cell_type": "markdown",
   "metadata": {},
   "source": [
    "Accordingly, there are 79 features with numeric data (this includes bolean features with values of either 1 or 0, corresponding to True or False). That means there are 9 features with non-numerical data. Let's see what they are"
   ]
  },
  {
   "cell_type": "code",
   "execution_count": 6,
   "metadata": {
    "scrolled": false
   },
   "outputs": [
    {
     "name": "stdout",
     "output_type": "stream",
     "text": [
      "<class 'pandas.core.frame.DataFrame'>\n",
      "Int64Index: 2947 entries, 7 to 29469\n",
      "Data columns (total 88 columns):\n",
      "abandons                   2947 non-null int64\n",
      "account_id                 2947 non-null float64\n",
      "actions_per_min            562 non-null float64\n",
      "ancient_kills              577 non-null float64\n",
      "assists                    2947 non-null int64\n",
      "backpack_0                 1217 non-null float64\n",
      "backpack_1                 1217 non-null float64\n",
      "backpack_2                 1217 non-null float64\n",
      "buyback_count              577 non-null float64\n",
      "camps_stacked              354 non-null float64\n",
      "cluster                    2947 non-null int64\n",
      "courier_kills              577 non-null float64\n",
      "creeps_stacked             354 non-null float64\n",
      "deaths                     2947 non-null int64\n",
      "denies                     2947 non-null int64\n",
      "duration                   2947 non-null int64\n",
      "firstblood_claimed         159 non-null float64\n",
      "game_mode                  2947 non-null int64\n",
      "gold                       2656 non-null float64\n",
      "gold_per_min               2947 non-null int64\n",
      "gold_spent                 2656 non-null float64\n",
      "hero_damage                2656 non-null float64\n",
      "hero_healing               2656 non-null float64\n",
      "hero_id                    2947 non-null int64\n",
      "hero_kills                 577 non-null float64\n",
      "isRadiant                  2947 non-null bool\n",
      "is_contributor             2947 non-null bool\n",
      "is_roaming                 577 non-null object\n",
      "item_0                     2947 non-null int64\n",
      "item_1                     2947 non-null int64\n",
      "item_2                     2947 non-null int64\n",
      "item_3                     2947 non-null int64\n",
      "item_4                     2947 non-null int64\n",
      "item_5                     2947 non-null int64\n",
      "kda                        2947 non-null int64\n",
      "kills                      2947 non-null int64\n",
      "kills_per_min              2893 non-null float64\n",
      "lane                       577 non-null float64\n",
      "lane_efficiency            577 non-null float64\n",
      "lane_efficiency_pct        577 non-null float64\n",
      "lane_kills                 577 non-null float64\n",
      "lane_role                  577 non-null float64\n",
      "last_hits                  2947 non-null int64\n",
      "last_login                 2947 non-null object\n",
      "leaver_status              2947 non-null int64\n",
      "level                      2947 non-null int64\n",
      "life_state_dead            504 non-null float64\n",
      "lobby_type                 2947 non-null int64\n",
      "lose                       2947 non-null int64\n",
      "match_id                   2947 non-null int64\n",
      "name                       0 non-null object\n",
      "necronomicon_kills         577 non-null float64\n",
      "neutral_kills              577 non-null float64\n",
      "obs_placed                 353 non-null float64\n",
      "observer_kills             577 non-null float64\n",
      "observer_uses              577 non-null float64\n",
      "party_id                   515 non-null float64\n",
      "party_size                 150 non-null float64\n",
      "patch                      2946 non-null float64\n",
      "performance_others         0 non-null object\n",
      "pings                      551 non-null float64\n",
      "player_slot                2947 non-null int64\n",
      "pred_vict                  267 non-null object\n",
      "purchase_gem               20 non-null float64\n",
      "purchase_rapier            6 non-null float64\n",
      "purchase_ward_observer     176 non-null float64\n",
      "purchase_ward_sentry       160 non-null float64\n",
      "radiant_win                2947 non-null bool\n",
      "randomed                   267 non-null object\n",
      "rank_tier                  0 non-null float64\n",
      "region                     2878 non-null float64\n",
      "repicked                   0 non-null float64\n",
      "roshan_kills               577 non-null float64\n",
      "roshans_killed             159 non-null float64\n",
      "rune_pickups               354 non-null float64\n",
      "sen_placed                 353 non-null float64\n",
      "sentry_kills               577 non-null float64\n",
      "sentry_uses                577 non-null float64\n",
      "start_time                 2947 non-null int64\n",
      "stuns                      532 non-null float64\n",
      "teamfight_participation    159 non-null float64\n",
      "total_gold                 2947 non-null int64\n",
      "total_xp                   2946 non-null float64\n",
      "tower_damage               2656 non-null float64\n",
      "tower_kills                577 non-null float64\n",
      "towers_killed              159 non-null float64\n",
      "win                        2947 non-null int64\n",
      "xp_per_min                 2947 non-null int64\n",
      "dtypes: bool(3), float64(51), int64(28), object(6)\n",
      "memory usage: 1.9+ MB\n"
     ]
    }
   ],
   "source": [
    "### get the type of data from mydata table \n",
    "df_my_match.info()"
   ]
  },
  {
   "cell_type": "markdown",
   "metadata": {},
   "source": [
    "So the non-numeric geatures are: \n",
    "\n",
    "- ** isRadiant** \n",
    "- ** iscontributor**\n",
    "- ** is_roaming**\n",
    "- ** last_login**\n",
    "- ** name**\n",
    "- ** performance_others**\n",
    "- ** pred_vict**\n",
    "- ** radiant_win **\n",
    "- ** rank_tier\n",
    "  **"
   ]
  },
  {
   "cell_type": "markdown",
   "metadata": {},
   "source": [
    "## Numeric Features"
   ]
  },
  {
   "cell_type": "markdown",
   "metadata": {},
   "source": [
    "It's logical to investigate numeric features for my analytical purpose. The first step is to deal with null values. I'll delete any feature with more than 2000 missing values since it is approximately 90% of the data."
   ]
  },
  {
   "cell_type": "code",
   "execution_count": 7,
   "metadata": {},
   "outputs": [
    {
     "name": "stdout",
     "output_type": "stream",
     "text": [
      "repicked                   2947\n",
      "name                       2947\n",
      "rank_tier                  2947\n",
      "performance_others         2947\n",
      "purchase_rapier            2941\n",
      "purchase_gem               2927\n",
      "party_size                 2797\n",
      "towers_killed              2788\n",
      "firstblood_claimed         2788\n",
      "teamfight_participation    2788\n",
      "roshans_killed             2788\n",
      "purchase_ward_sentry       2787\n",
      "purchase_ward_observer     2771\n",
      "pred_vict                  2680\n",
      "randomed                   2680\n",
      "obs_placed                 2594\n",
      "sen_placed                 2594\n",
      "camps_stacked              2593\n",
      "creeps_stacked             2593\n",
      "rune_pickups               2593\n",
      "life_state_dead            2443\n",
      "party_id                   2432\n",
      "stuns                      2415\n",
      "pings                      2396\n",
      "actions_per_min            2385\n",
      "buyback_count              2370\n",
      "observer_uses              2370\n",
      "courier_kills              2370\n",
      "necronomicon_kills         2370\n",
      "lane_kills                 2370\n",
      "                           ... \n",
      "duration                      0\n",
      "denies                        0\n",
      "deaths                        0\n",
      "cluster                       0\n",
      "assists                       0\n",
      "xp_per_min                    0\n",
      "last_login                    0\n",
      "hero_id                       0\n",
      "win                           0\n",
      "total_gold                    0\n",
      "start_time                    0\n",
      "radiant_win                   0\n",
      "player_slot                   0\n",
      "match_id                      0\n",
      "lose                          0\n",
      "lobby_type                    0\n",
      "level                         0\n",
      "leaver_status                 0\n",
      "last_hits                     0\n",
      "isRadiant                     0\n",
      "kills                         0\n",
      "kda                           0\n",
      "item_5                        0\n",
      "item_4                        0\n",
      "item_3                        0\n",
      "item_2                        0\n",
      "item_1                        0\n",
      "item_0                        0\n",
      "is_contributor                0\n",
      "abandons                      0\n",
      "Length: 88, dtype: int64\n"
     ]
    }
   ],
   "source": [
    "Missing_values = df_my_match.isnull().sum().sort_values(ascending = False)\n",
    "print(Missing_values)"
   ]
  },
  {
   "cell_type": "code",
   "execution_count": 8,
   "metadata": {},
   "outputs": [
    {
     "name": "stdout",
     "output_type": "stream",
     "text": [
      "43\n"
     ]
    },
    {
     "data": {
      "text/html": [
       "<div>\n",
       "<style>\n",
       "    .dataframe thead tr:only-child th {\n",
       "        text-align: right;\n",
       "    }\n",
       "\n",
       "    .dataframe thead th {\n",
       "        text-align: left;\n",
       "    }\n",
       "\n",
       "    .dataframe tbody tr th {\n",
       "        vertical-align: top;\n",
       "    }\n",
       "</style>\n",
       "<table border=\"1\" class=\"dataframe\">\n",
       "  <thead>\n",
       "    <tr style=\"text-align: right;\">\n",
       "      <th></th>\n",
       "      <th>abandons</th>\n",
       "      <th>account_id</th>\n",
       "      <th>assists</th>\n",
       "      <th>backpack_0</th>\n",
       "      <th>backpack_1</th>\n",
       "      <th>backpack_2</th>\n",
       "      <th>cluster</th>\n",
       "      <th>deaths</th>\n",
       "      <th>denies</th>\n",
       "      <th>duration</th>\n",
       "      <th>...</th>\n",
       "      <th>patch</th>\n",
       "      <th>player_slot</th>\n",
       "      <th>radiant_win</th>\n",
       "      <th>region</th>\n",
       "      <th>start_time</th>\n",
       "      <th>total_gold</th>\n",
       "      <th>total_xp</th>\n",
       "      <th>tower_damage</th>\n",
       "      <th>win</th>\n",
       "      <th>xp_per_min</th>\n",
       "    </tr>\n",
       "  </thead>\n",
       "  <tbody>\n",
       "    <tr>\n",
       "      <th>7</th>\n",
       "      <td>0</td>\n",
       "      <td>120236951.0</td>\n",
       "      <td>9</td>\n",
       "      <td>46.0</td>\n",
       "      <td>77.0</td>\n",
       "      <td>38.0</td>\n",
       "      <td>152</td>\n",
       "      <td>7</td>\n",
       "      <td>13</td>\n",
       "      <td>2350</td>\n",
       "      <td>...</td>\n",
       "      <td>34.0</td>\n",
       "      <td>130</td>\n",
       "      <td>True</td>\n",
       "      <td>5.0</td>\n",
       "      <td>1527006038</td>\n",
       "      <td>17585</td>\n",
       "      <td>18095.0</td>\n",
       "      <td>204.0</td>\n",
       "      <td>0</td>\n",
       "      <td>462</td>\n",
       "    </tr>\n",
       "    <tr>\n",
       "      <th>13</th>\n",
       "      <td>0</td>\n",
       "      <td>120236951.0</td>\n",
       "      <td>6</td>\n",
       "      <td>36.0</td>\n",
       "      <td>0.0</td>\n",
       "      <td>0.0</td>\n",
       "      <td>155</td>\n",
       "      <td>2</td>\n",
       "      <td>32</td>\n",
       "      <td>2333</td>\n",
       "      <td>...</td>\n",
       "      <td>34.0</td>\n",
       "      <td>3</td>\n",
       "      <td>False</td>\n",
       "      <td>5.0</td>\n",
       "      <td>1527002098</td>\n",
       "      <td>22085</td>\n",
       "      <td>26207.0</td>\n",
       "      <td>776.0</td>\n",
       "      <td>0</td>\n",
       "      <td>674</td>\n",
       "    </tr>\n",
       "    <tr>\n",
       "      <th>29</th>\n",
       "      <td>0</td>\n",
       "      <td>120236951.0</td>\n",
       "      <td>12</td>\n",
       "      <td>0.0</td>\n",
       "      <td>0.0</td>\n",
       "      <td>46.0</td>\n",
       "      <td>156</td>\n",
       "      <td>4</td>\n",
       "      <td>21</td>\n",
       "      <td>3138</td>\n",
       "      <td>...</td>\n",
       "      <td>34.0</td>\n",
       "      <td>132</td>\n",
       "      <td>False</td>\n",
       "      <td>5.0</td>\n",
       "      <td>1526954973</td>\n",
       "      <td>32321</td>\n",
       "      <td>28189.0</td>\n",
       "      <td>4359.0</td>\n",
       "      <td>1</td>\n",
       "      <td>539</td>\n",
       "    </tr>\n",
       "    <tr>\n",
       "      <th>35</th>\n",
       "      <td>0</td>\n",
       "      <td>120236951.0</td>\n",
       "      <td>16</td>\n",
       "      <td>46.0</td>\n",
       "      <td>182.0</td>\n",
       "      <td>0.0</td>\n",
       "      <td>156</td>\n",
       "      <td>9</td>\n",
       "      <td>5</td>\n",
       "      <td>2683</td>\n",
       "      <td>...</td>\n",
       "      <td>34.0</td>\n",
       "      <td>128</td>\n",
       "      <td>False</td>\n",
       "      <td>5.0</td>\n",
       "      <td>1526951613</td>\n",
       "      <td>22224</td>\n",
       "      <td>27947.0</td>\n",
       "      <td>436.0</td>\n",
       "      <td>1</td>\n",
       "      <td>625</td>\n",
       "    </tr>\n",
       "    <tr>\n",
       "      <th>40</th>\n",
       "      <td>0</td>\n",
       "      <td>120236951.0</td>\n",
       "      <td>17</td>\n",
       "      <td>0.0</td>\n",
       "      <td>100.0</td>\n",
       "      <td>0.0</td>\n",
       "      <td>155</td>\n",
       "      <td>5</td>\n",
       "      <td>10</td>\n",
       "      <td>3043</td>\n",
       "      <td>...</td>\n",
       "      <td>34.0</td>\n",
       "      <td>0</td>\n",
       "      <td>True</td>\n",
       "      <td>5.0</td>\n",
       "      <td>1526916086</td>\n",
       "      <td>35907</td>\n",
       "      <td>38341.0</td>\n",
       "      <td>3501.0</td>\n",
       "      <td>1</td>\n",
       "      <td>756</td>\n",
       "    </tr>\n",
       "  </tbody>\n",
       "</table>\n",
       "<p>5 rows × 45 columns</p>\n",
       "</div>"
      ],
      "text/plain": [
       "    abandons   account_id  assists  backpack_0  backpack_1  backpack_2  \\\n",
       "7          0  120236951.0        9        46.0        77.0        38.0   \n",
       "13         0  120236951.0        6        36.0         0.0         0.0   \n",
       "29         0  120236951.0       12         0.0         0.0        46.0   \n",
       "35         0  120236951.0       16        46.0       182.0         0.0   \n",
       "40         0  120236951.0       17         0.0       100.0         0.0   \n",
       "\n",
       "    cluster  deaths  denies  duration     ...      patch  player_slot  \\\n",
       "7       152       7      13      2350     ...       34.0          130   \n",
       "13      155       2      32      2333     ...       34.0            3   \n",
       "29      156       4      21      3138     ...       34.0          132   \n",
       "35      156       9       5      2683     ...       34.0          128   \n",
       "40      155       5      10      3043     ...       34.0            0   \n",
       "\n",
       "    radiant_win  region  start_time  total_gold  total_xp  tower_damage  win  \\\n",
       "7          True     5.0  1527006038       17585   18095.0         204.0    0   \n",
       "13        False     5.0  1527002098       22085   26207.0         776.0    0   \n",
       "29        False     5.0  1526954973       32321   28189.0        4359.0    1   \n",
       "35        False     5.0  1526951613       22224   27947.0         436.0    1   \n",
       "40         True     5.0  1526916086       35907   38341.0        3501.0    1   \n",
       "\n",
       "    xp_per_min  \n",
       "7          462  \n",
       "13         674  \n",
       "29         539  \n",
       "35         625  \n",
       "40         756  \n",
       "\n",
       "[5 rows x 45 columns]"
      ]
     },
     "execution_count": 8,
     "metadata": {},
     "output_type": "execute_result"
    }
   ],
   "source": [
    "### delete any features with more than 2000 missing values\n",
    "to_be_delete = []\n",
    "for index, val in Missing_values.iteritems():\n",
    "    if val >= 2000:\n",
    "        to_be_delete.append(index)\n",
    "\n",
    "\n",
    "df1 = df_my_match.copy()       \n",
    "df1.drop([col for col in to_be_delete], inplace = True, axis = 1)\n",
    "df1.head()\n",
    "print (len(to_be_delete))"
   ]
  },
  {
   "cell_type": "markdown",
   "metadata": {},
   "source": [
    "So there are 43 features with approximately 90% of the value missing."
   ]
  },
  {
   "cell_type": "markdown",
   "metadata": {},
   "source": [
    "Based on the information provide by the schema from open dota, I can delete account_id and is_contributor from my dataframe as they do not provide any useful information."
   ]
  },
  {
   "cell_type": "code",
   "execution_count": 9,
   "metadata": {
    "collapsed": true
   },
   "outputs": [],
   "source": [
    "### drop the features\n",
    "df1.drop('account_id', inplace = True, axis =1)\n",
    "df1.drop('is_contributor', inplace = True, axis =1)"
   ]
  },
  {
   "cell_type": "markdown",
   "metadata": {},
   "source": [
    "###  Correlation among numerical values "
   ]
  },
  {
   "cell_type": "markdown",
   "metadata": {},
   "source": [
    "Correlation matrix always helps show strong correlation between numerical features with my wins. Below is the correlation matrix that shows by descending order, the degree of association between features and my wins. "
   ]
  },
  {
   "cell_type": "code",
   "execution_count": 10,
   "metadata": {},
   "outputs": [
    {
     "data": {
      "text/plain": [
       "win              1.000000\n",
       "gold             0.566857\n",
       "tower_damage     0.556291\n",
       "gold_per_min     0.546683\n",
       "kda              0.490050\n",
       "xp_per_min       0.415524\n",
       "kills_per_min    0.369223\n",
       "total_gold       0.344635\n",
       "assists          0.325071\n",
       "kills            0.312939\n",
       "gold_spent       0.307307\n",
       "level            0.266810\n",
       "total_xp         0.255308\n",
       "item_5           0.139830\n",
       "last_hits        0.123430\n",
       "item_4           0.105588\n",
       "hero_damage      0.094971\n",
       "item_3           0.079682\n",
       "denies           0.068971\n",
       "item_1           0.067397\n",
       "backpack_2       0.061453\n",
       "item_2           0.047824\n",
       "hero_healing     0.039092\n",
       "item_0           0.032573\n",
       "isRadiant        0.031556\n",
       "start_time       0.015991\n",
       "backpack_0       0.014403\n",
       "game_mode        0.010632\n",
       "match_id         0.008683\n",
       "backpack_1       0.005032\n",
       "duration         0.004865\n",
       "patch            0.003946\n",
       "radiant_win      0.000222\n",
       "cluster         -0.007625\n",
       "region          -0.009202\n",
       "hero_id         -0.025736\n",
       "lobby_type      -0.029352\n",
       "player_slot     -0.031583\n",
       "abandons        -0.058569\n",
       "leaver_status   -0.108370\n",
       "deaths          -0.430504\n",
       "lose            -1.000000\n",
       "Name: win, dtype: float64"
      ]
     },
     "execution_count": 10,
     "metadata": {},
     "output_type": "execute_result"
    }
   ],
   "source": [
    "### compute correlation among features and my wins\n",
    "corr_matrix = df1.corr()\n",
    "corr_matrix['win'].sort_values(ascending = False)\n"
   ]
  },
  {
   "cell_type": "code",
   "execution_count": 11,
   "metadata": {},
   "outputs": [
    {
     "name": "stdout",
     "output_type": "stream",
     "text": [
      "42\n"
     ]
    }
   ],
   "source": [
    "### print the number of features\n",
    "print(len(corr_matrix))"
   ]
  },
  {
   "cell_type": "markdown",
   "metadata": {},
   "source": [
    "So the features with correlation >= 5% are:"
   ]
  },
  {
   "cell_type": "code",
   "execution_count": 12,
   "metadata": {
    "collapsed": true
   },
   "outputs": [],
   "source": [
    "cols_to_use = ['gold', 'tower_damage', 'gold_per_min', 'kda', 'xp_per_min', 'kills_per_min', \n",
    "               'total_gold', 'assists', 'kills', 'gold_spent', 'level', 'total_xp', 'item_5', \n",
    "               'last_hits', 'item_4', 'hero_damage', 'item_3', 'denies', 'item_1', 'backpack_2', 'abandons', 'leaver_status', 'deaths']"
   ]
  },
  {
   "cell_type": "markdown",
   "metadata": {},
   "source": [
    "I want to see if any of these features are highly correlated with each other. My definition of positively high correlation is any score above 70% and negatively correlation is about 60%."
   ]
  },
  {
   "cell_type": "code",
   "execution_count": 13,
   "metadata": {},
   "outputs": [
    {
     "data": {
      "text/plain": [
       "Text(0.5,1,'Correlation Matrix')"
      ]
     },
     "execution_count": 13,
     "metadata": {},
     "output_type": "execute_result"
    },
    {
     "data": {
      "image/png": "[encoded data removed]",
      "text/plain": [
       "<Figure size 1080x720 with 2 Axes>"
      ]
     },
     "metadata": {},
     "output_type": "display_data"
    }
   ],
   "source": [
    "%matplotlib inline\n",
    "import matplotlib.pyplot as plt\n",
    "plt.figure(figsize=(15,10))\n",
    "import seaborn as sns\n",
    "sns.heatmap(df1[cols_to_use].corr(), annot = True)\n",
    "plt.title(\"Correlation Matrix\", size = 25)"
   ]
  },
  {
   "cell_type": "markdown",
   "metadata": {},
   "source": [
    "First let's take a look at what these features are from opendota:\n",
    "- **total_xp**\t\n",
    "integer\n",
    "Total experience at the end of the game\n",
    "- **kills_per_min**\t\n",
    "number\n",
    "Number of kills per minute\n",
    "- **kda**\t\n",
    "number\n",
    "kda (kills/deaths/assists)\n",
    "- **tower_damage**\t\n",
    "integer\n",
    "Total tower damage done by the player\n",
    "- **level**\t\n",
    "integer\n",
    "Level at the end of the game\n",
    "- **item_1**                                                             \n",
    "integer\n",
    "Item in the player's second slot\n",
    "- **item_2**\t\n",
    "integer\n",
    "Item in the player's third slot\n",
    "- **item_3**\t\n",
    "integer\n",
    "Item in the player's fourth slot\n",
    "- **item_4**\t\n",
    "integer\n",
    "Item in the player's fifth slot\n",
    "- **item_5**\t\n",
    "integer\n",
    "Item in the player's sixth slot\n",
    "- **hero_damage**\t\n",
    "integer\n",
    "Hero Damage Dealt\n",
    "- **gold_spent**\t\n",
    "integer\n",
    "How much gold the player spent\n",
    "- **gold**\t\n",
    "integer\n",
    "Gold at the end of the game\n",
    "- **gold_per_min**\t\n",
    "integer\n",
    "Gold Per Minute obtained by this player\n",
    "- **assists**\t\n",
    "integer\n",
    "Number of assists the player had\n",
    "- **deaths**\t\n",
    "integer\n",
    "Number of deaths\n",
    "- **denies**\t\n",
    "integer\n",
    "Number of denies\n",
    "- **kills**\t\n",
    "integer\n",
    "Number of kills\n",
    "- **leaver_status**\t\n",
    "integer\n",
    "Integer describing whether or not the player left the game. 0: didn't leave. 1: left safely. 2+: Abandoned\n",
    "- **backpack_2**\t\n",
    "integer\n",
    "Item in backpack slot 2\n",
    "- **last_hits**\t\n",
    "integer\n",
    "Number of last hits\n",
    "\n",
    "\n"
   ]
  },
  {
   "cell_type": "markdown",
   "metadata": {},
   "source": [
    "According to the correlation matrix:\n",
    "* tower_damage is highly correlated with gold_per_min\n",
    "* gold_per_min is highly correlated with xp_per_min, gold_spent, last_hits, tower damage, total_gold\n",
    "* kda is highly negatively correlated with deaths\n",
    "* xp_per_min is highly correlated with gold_per_min, level, total_xp\n",
    "* kills_per_min is highly correlated with kills\n",
    "* total_gold is highly correlated with gold_per_min, kills, gold_spent, level, total_xp, last_hits, hero_damage\n",
    "* kills is highgly correlated with kills_per_mins, total_gold\n",
    "* gold_spent is highly correlated with total_gold, level, total_xp, last_hits\n",
    "* level is highly correlated with xp_per_min, total_gold, gold_spent, total_xp, last_hits\n",
    "* total_xp is highly correlated with total_gold, gold_spent, level, last_hits\n",
    "* last_hits is highly correlated with gold_per_min, total_gold, gold_spent, level, total_xp\n",
    "* leaver status and abandons are highly correlated."
   ]
  },
  {
   "cell_type": "markdown",
   "metadata": {},
   "source": [
    "One assumption I have to make is that players at my rank understand dota2 (which is true) and how to play the game. Thus, at any point in time of the game, players in my matches know what they have to do (for example, spending gold, moving, etc...)"
   ]
  },
  {
   "cell_type": "markdown",
   "metadata": {},
   "source": [
    "Based on my understanding of Dota2, xp_per_min, gold_spent, last_hits, tower damage, total_gold are the causes for fluctuations in gold_per_min. Thus, I will delete gold_per_min feature and keep the others. I'll keep deaths feature since I already have assists and kills features. Xp_per_min can be deleted and replaced with level and total_xp. So far the features I'll keep is **'gold', 'tower_damage', 'kda', 'kills_per_min', 'total_gold', 'assists', 'kills', 'gold_spent', 'level', 'total_xp', 'item_5', 'last_hits', 'item_4', 'hero_damage', 'item_3', 'denies', 'item_1', 'backpack_2', 'abandons', 'leaver_status'**. I'll keep kills_per_min instead of kills because the kills feature is also correlated with other features. I can also delete total_gold since it can be attributed to level, total_xp, last_hits, hero_damage. So the features I'll keep until now are ** 'gold', 'tower_damage', 'kda', 'kills_per_min', 'assists', 'gold_spent', 'level', 'total_xp', 'item_5', 'last_hits', 'item_4', 'hero_damage', 'item_3', 'denies', 'item_1', 'backpack_2', 'abandons', 'leaver_status' **. Since gold_spent is highly correlated with the features we already have, I can delete it. It seems that level, total_xp, and last_hits are highly correlated with one another. Based on my understanding, last_hits can combine with level to get total_xp. Thus, I'll delete total_xp from my features. Therefore, I'm left with **'gold', 'tower_damage', 'kda', 'kills_per_min', 'assists', 'gold_spent', 'level', 'item_5', 'last_hits', 'item_4', 'hero_damage', 'item_3', 'denies', 'item_1', 'backpack_2', 'abandons', 'leaver_status'**. I'll keep leaver_status as it encompasses abandons. From my understanding of Dota2, the 'gold' feature is highly correlated with a lot of other features. I will not keep it. Hence, my final set of features to consider is:\n",
    "- **'tower_damage', 'kda', 'kills_per_min', 'assists', 'gold_spent', 'level', 'item_5', 'last_hits', 'item_4', 'hero_damage', 'item_3', 'denies', 'item_1', 'backpack_2', 'leaver_status'**."
   ]
  },
  {
   "cell_type": "markdown",
   "metadata": {},
   "source": [
    "## Non-numeric Features "
   ]
  },
  {
   "cell_type": "markdown",
   "metadata": {},
   "source": [
    "Here are the 9 non-numeric features\n",
    "- ** isRadiant** \n",
    "- ** is_contributor**\n",
    "- ** isroaming**\n",
    "- ** last_login**\n",
    "- ** name**\n",
    "- ** performance_others**\n",
    "- ** pred_vict**\n",
    "- ** radiant_win **\n",
    "- ** rank_tier **"
   ]
  },
  {
   "cell_type": "code",
   "execution_count": 14,
   "metadata": {},
   "outputs": [
    {
     "name": "stdout",
     "output_type": "stream",
     "text": [
      "True\n",
      "True\n",
      "False\n",
      "False\n",
      "False\n",
      "True\n",
      "False\n",
      "False\n"
     ]
    }
   ],
   "source": [
    "non_numeric_features = ['last_login', 'isRadiant', 'name', 'performance_others', 'pred_vict','radiant_win', 'rank_tier', 'is_roaming'] \n",
    "for i in non_numeric_features:\n",
    "    print(i in df1.columns)"
   ]
  },
  {
   "cell_type": "markdown",
   "metadata": {},
   "source": [
    "name, performance_others, pred_vict, rank_tier, is_roaming have been deleted because of missing values. Only last_login, isRadiant and radiant_win remain. Let's take a look at the their missing values"
   ]
  },
  {
   "cell_type": "code",
   "execution_count": 15,
   "metadata": {},
   "outputs": [
    {
     "data": {
      "text/plain": [
       "radiant_win    0\n",
       "isRadiant      0\n",
       "last_login     0\n",
       "dtype: int64"
      ]
     },
     "execution_count": 15,
     "metadata": {},
     "output_type": "execute_result"
    }
   ],
   "source": [
    "df1[['last_login', 'isRadiant','radiant_win']].isnull().sum().sort_values(ascending = False)"
   ]
  },
  {
   "cell_type": "markdown",
   "metadata": {},
   "source": [
    "Great there are no missing values. Let's investigate their distributions"
   ]
  },
  {
   "cell_type": "code",
   "execution_count": 16,
   "metadata": {},
   "outputs": [
    {
     "data": {
      "text/plain": [
       "<matplotlib.axes._subplots.AxesSubplot at 0x26e637feac8>"
      ]
     },
     "execution_count": 16,
     "metadata": {},
     "output_type": "execute_result"
    },
    {
     "data": {
      "image/png": "[encoded data removed]",
      "text/plain": [
       "<Figure size 576x576 with 3 Axes>"
      ]
     },
     "metadata": {},
     "output_type": "display_data"
    }
   ],
   "source": [
    "### graphing categorical features' distributions in ralation with my wins\n",
    "import seaborn as sns\n",
    "fig, axes = plt.subplots(3,1, figsize = (8,8))\n",
    "plt.subplots_adjust(wspace=0.4, hspace=0.5)\n",
    "sns.countplot(x='isRadiant', hue='win', data = df1, ax=axes[0])\n",
    "sns.countplot(x='last_login', hue='win', data = df1, ax=axes[1])\n",
    "sns.countplot(x='radiant_win', hue='win', data = df1, ax=axes[2])\n"
   ]
  },
  {
   "cell_type": "markdown",
   "metadata": {},
   "source": [
    "The graph shows that these features are not correlated with my wins. Therefore, I will not use them. "
   ]
  },
  {
   "cell_type": "markdown",
   "metadata": {},
   "source": [
    "## Handling Missing Data"
   ]
  },
  {
   "cell_type": "code",
   "execution_count": 17,
   "metadata": {},
   "outputs": [
    {
     "data": {
      "text/plain": [
       "backpack_2       1730\n",
       "hero_damage       291\n",
       "tower_damage      291\n",
       "gold              291\n",
       "kills_per_min      54\n",
       "leaver_status       0\n",
       "item_1              0\n",
       "denies              0\n",
       "item_3              0\n",
       "item_4              0\n",
       "last_hits           0\n",
       "item_5              0\n",
       "level               0\n",
       "assists             0\n",
       "deaths              0\n",
       "dtype: int64"
      ]
     },
     "execution_count": 17,
     "metadata": {},
     "output_type": "execute_result"
    }
   ],
   "source": [
    "### get the number of missing values from these features\n",
    "df1 = df1[['tower_damage', 'deaths', 'kills_per_min', 'assists', 'level', 'item_5', 'last_hits', 'item_4', \n",
    "           'hero_damage', 'item_3', 'denies', 'item_1', 'backpack_2', 'leaver_status']]\n",
    "df1.isnull().sum().sort_values(ascending = False)"
   ]
  },
  {
   "cell_type": "markdown",
   "metadata": {},
   "source": [
    "Let's take a look at the distributions of the features with missing values."
   ]
  },
  {
   "cell_type": "code",
   "execution_count": 19,
   "metadata": {},
   "outputs": [
    {
     "data": {
      "image/png": "[encoded data removed]",
      "text/plain": [
       "<Figure size 576x576 with 4 Axes>"
      ]
     },
     "metadata": {},
     "output_type": "display_data"
    }
   ],
   "source": [
    "### graph the distribution of the four above features with missing values\n",
    "from math import floor\n",
    "fig, axes = plt.subplots(2,2, figsize = (8,8))\n",
    "plt.subplots_adjust(wspace=0.4, hspace=0.5)\n",
    "switcher =1 \n",
    "plots = ['hero_damage', 'tower_damage','gold','kills_per_min']\n",
    "for idx, value in enumerate(plots):\n",
    "    switcher ^= 1\n",
    "    spl = df1[value].value_counts().sort_index().plot.hist(ax = axes[floor(idx/2), switcher])\n",
    "    axes[floor(idx/2), switcher].set_xlabel(value)\n",
    "    "
   ]
  },
  {
   "cell_type": "markdown",
   "metadata": {},
   "source": [
    "Since backpack2 has a lot of missing values (about 60% of the total data), I'll delete this feature. It looks like my missing value features are skewed to the right. \n"
   ]
  },
  {
   "cell_type": "code",
   "execution_count": 20,
   "metadata": {
    "collapsed": true,
    "scrolled": true
   },
   "outputs": [],
   "source": [
    "### drop backpack_2 feature\n",
    "df1.drop('backpack_2', inplace=True, axis=1)\n"
   ]
  },
  {
   "cell_type": "markdown",
   "metadata": {},
   "source": [
    "### Simple Approach for Handing Missing Values"
   ]
  },
  {
   "cell_type": "markdown",
   "metadata": {},
   "source": [
    "Since the missing values are all numerical features, I will fill in missing values with the  median of their respective features because my features are skewed."
   ]
  },
  {
   "cell_type": "code",
   "execution_count": 21,
   "metadata": {},
   "outputs": [
    {
     "data": {
      "text/plain": [
       "gold              2305.500000\n",
       "tower_damage      1109.000000\n",
       "deaths               5.000000\n",
       "kills_per_min        0.179949\n",
       "assists             11.000000\n",
       "level               21.000000\n",
       "item_5             108.000000\n",
       "last_hits          188.000000\n",
       "item_4             102.000000\n",
       "hero_damage      15243.000000\n",
       "item_3              98.000000\n",
       "denies              11.000000\n",
       "item_1             102.000000\n",
       "leaver_status        0.000000\n",
       "dtype: float64"
      ]
     },
     "execution_count": 21,
     "metadata": {},
     "output_type": "execute_result"
    }
   ],
   "source": [
    "### get the median values for each features\n",
    "df1.median()"
   ]
  },
  {
   "cell_type": "code",
   "execution_count": 22,
   "metadata": {},
   "outputs": [
    {
     "data": {
      "text/plain": [
       "leaver_status    0\n",
       "item_1           0\n",
       "denies           0\n",
       "item_3           0\n",
       "hero_damage      0\n",
       "item_4           0\n",
       "last_hits        0\n",
       "item_5           0\n",
       "level            0\n",
       "assists          0\n",
       "kills_per_min    0\n",
       "deaths           0\n",
       "tower_damage     0\n",
       "gold             0\n",
       "dtype: int64"
      ]
     },
     "execution_count": 22,
     "metadata": {},
     "output_type": "execute_result"
    }
   ],
   "source": [
    "### fill in missing values with each feature's median value\n",
    "df_simple = df1.copy()\n",
    "df_simple.fillna(df1.median(), inplace = True).isnull().sum().sort_values(ascending = False)"
   ]
  },
  {
   "cell_type": "markdown",
   "metadata": {},
   "source": [
    "### Handling Missing Values Using KNN \n",
    "The idea behind KNN is that a point of value can be approximated by the values of points closest to it. In other words, the missing values of a feature can be approximated by the values of other features. "
   ]
  },
  {
   "cell_type": "code",
   "execution_count": 23,
   "metadata": {},
   "outputs": [
    {
     "name": "stderr",
     "output_type": "stream",
     "text": [
      "C:\\Users\\tnguy\\Anaconda3\\lib\\site-packages\\h5py\\__init__.py:34: FutureWarning: Conversion of the second argument of issubdtype from `float` to `np.floating` is deprecated. In future, it will be treated as `np.float64 == np.dtype(float).type`.\n",
      "  from ._conv import register_converters as _register_converters\n",
      "Using TensorFlow backend.\n"
     ]
    },
    {
     "name": "stdout",
     "output_type": "stream",
     "text": [
      "Imputing row 1/2947 with 0 missing, elapsed time: 1.522\n",
      "Imputing row 101/2947 with 0 missing, elapsed time: 1.523\n",
      "Imputing row 201/2947 with 0 missing, elapsed time: 1.523\n",
      "Imputing row 301/2947 with 0 missing, elapsed time: 1.524\n",
      "Imputing row 401/2947 with 0 missing, elapsed time: 1.524\n",
      "Imputing row 501/2947 with 0 missing, elapsed time: 1.525\n",
      "Imputing row 601/2947 with 0 missing, elapsed time: 1.525\n",
      "Imputing row 701/2947 with 0 missing, elapsed time: 1.525\n",
      "Imputing row 801/2947 with 0 missing, elapsed time: 1.526\n",
      "Imputing row 901/2947 with 0 missing, elapsed time: 1.526\n",
      "Imputing row 1001/2947 with 0 missing, elapsed time: 1.526\n",
      "Imputing row 1101/2947 with 0 missing, elapsed time: 1.526\n",
      "Imputing row 1201/2947 with 0 missing, elapsed time: 1.527\n",
      "Imputing row 1301/2947 with 0 missing, elapsed time: 1.527\n",
      "Imputing row 1401/2947 with 0 missing, elapsed time: 1.527\n",
      "Imputing row 1501/2947 with 0 missing, elapsed time: 1.528\n",
      "Imputing row 1601/2947 with 0 missing, elapsed time: 1.529\n",
      "Imputing row 1701/2947 with 0 missing, elapsed time: 1.529\n",
      "Imputing row 1801/2947 with 0 missing, elapsed time: 1.530\n",
      "Imputing row 1901/2947 with 0 missing, elapsed time: 1.530\n",
      "Imputing row 2001/2947 with 0 missing, elapsed time: 1.531\n",
      "Imputing row 2101/2947 with 0 missing, elapsed time: 1.531\n",
      "Imputing row 2201/2947 with 0 missing, elapsed time: 1.531\n",
      "Imputing row 2301/2947 with 0 missing, elapsed time: 1.531\n",
      "Imputing row 2401/2947 with 3 missing, elapsed time: 1.533\n",
      "Imputing row 2501/2947 with 0 missing, elapsed time: 1.537\n",
      "Imputing row 2601/2947 with 3 missing, elapsed time: 1.542\n",
      "Imputing row 2701/2947 with 0 missing, elapsed time: 1.546\n",
      "Imputing row 2801/2947 with 0 missing, elapsed time: 1.549\n",
      "Imputing row 2901/2947 with 3 missing, elapsed time: 1.553\n"
     ]
    }
   ],
   "source": [
    "from fancyimpute import KNN\n",
    "### Fill in missing values using KNN method\n",
    "df1_filled =KNN(k=5).fit_transform(df1)"
   ]
  },
  {
   "cell_type": "code",
   "execution_count": 24,
   "metadata": {},
   "outputs": [
    {
     "data": {
      "text/html": [
       "<div>\n",
       "<style>\n",
       "    .dataframe thead tr:only-child th {\n",
       "        text-align: right;\n",
       "    }\n",
       "\n",
       "    .dataframe thead th {\n",
       "        text-align: left;\n",
       "    }\n",
       "\n",
       "    .dataframe tbody tr th {\n",
       "        vertical-align: top;\n",
       "    }\n",
       "</style>\n",
       "<table border=\"1\" class=\"dataframe\">\n",
       "  <thead>\n",
       "    <tr style=\"text-align: right;\">\n",
       "      <th></th>\n",
       "      <th>gold</th>\n",
       "      <th>tower_damage</th>\n",
       "      <th>deaths</th>\n",
       "      <th>kills_per_min</th>\n",
       "      <th>assists</th>\n",
       "      <th>level</th>\n",
       "      <th>item_5</th>\n",
       "      <th>last_hits</th>\n",
       "      <th>item_4</th>\n",
       "      <th>hero_damage</th>\n",
       "      <th>item_3</th>\n",
       "      <th>denies</th>\n",
       "      <th>item_1</th>\n",
       "      <th>leaver_status</th>\n",
       "    </tr>\n",
       "  </thead>\n",
       "  <tbody>\n",
       "    <tr>\n",
       "      <th>2722</th>\n",
       "      <td>NaN</td>\n",
       "      <td>NaN</td>\n",
       "      <td>8</td>\n",
       "      <td>0.240370</td>\n",
       "      <td>10</td>\n",
       "      <td>25</td>\n",
       "      <td>166</td>\n",
       "      <td>401</td>\n",
       "      <td>116</td>\n",
       "      <td>NaN</td>\n",
       "      <td>263</td>\n",
       "      <td>38</td>\n",
       "      <td>135</td>\n",
       "      <td>0</td>\n",
       "    </tr>\n",
       "    <tr>\n",
       "      <th>23806</th>\n",
       "      <td>NaN</td>\n",
       "      <td>NaN</td>\n",
       "      <td>3</td>\n",
       "      <td>0.485830</td>\n",
       "      <td>12</td>\n",
       "      <td>25</td>\n",
       "      <td>160</td>\n",
       "      <td>251</td>\n",
       "      <td>158</td>\n",
       "      <td>NaN</td>\n",
       "      <td>65</td>\n",
       "      <td>18</td>\n",
       "      <td>50</td>\n",
       "      <td>0</td>\n",
       "    </tr>\n",
       "    <tr>\n",
       "      <th>23848</th>\n",
       "      <td>NaN</td>\n",
       "      <td>NaN</td>\n",
       "      <td>9</td>\n",
       "      <td>0.255517</td>\n",
       "      <td>11</td>\n",
       "      <td>19</td>\n",
       "      <td>166</td>\n",
       "      <td>180</td>\n",
       "      <td>149</td>\n",
       "      <td>NaN</td>\n",
       "      <td>63</td>\n",
       "      <td>15</td>\n",
       "      <td>172</td>\n",
       "      <td>0</td>\n",
       "    </tr>\n",
       "    <tr>\n",
       "      <th>23855</th>\n",
       "      <td>NaN</td>\n",
       "      <td>NaN</td>\n",
       "      <td>6</td>\n",
       "      <td>0.096192</td>\n",
       "      <td>22</td>\n",
       "      <td>18</td>\n",
       "      <td>0</td>\n",
       "      <td>128</td>\n",
       "      <td>63</td>\n",
       "      <td>NaN</td>\n",
       "      <td>172</td>\n",
       "      <td>4</td>\n",
       "      <td>166</td>\n",
       "      <td>0</td>\n",
       "    </tr>\n",
       "    <tr>\n",
       "      <th>23884</th>\n",
       "      <td>NaN</td>\n",
       "      <td>NaN</td>\n",
       "      <td>4</td>\n",
       "      <td>0.333598</td>\n",
       "      <td>11</td>\n",
       "      <td>24</td>\n",
       "      <td>63</td>\n",
       "      <td>303</td>\n",
       "      <td>160</td>\n",
       "      <td>NaN</td>\n",
       "      <td>139</td>\n",
       "      <td>26</td>\n",
       "      <td>158</td>\n",
       "      <td>0</td>\n",
       "    </tr>\n",
       "  </tbody>\n",
       "</table>\n",
       "</div>"
      ],
      "text/plain": [
       "       gold  tower_damage  deaths  kills_per_min  assists  level  item_5  \\\n",
       "2722    NaN           NaN       8       0.240370       10     25     166   \n",
       "23806   NaN           NaN       3       0.485830       12     25     160   \n",
       "23848   NaN           NaN       9       0.255517       11     19     166   \n",
       "23855   NaN           NaN       6       0.096192       22     18       0   \n",
       "23884   NaN           NaN       4       0.333598       11     24      63   \n",
       "\n",
       "       last_hits  item_4  hero_damage  item_3  denies  item_1  leaver_status  \n",
       "2722         401     116          NaN     263      38     135              0  \n",
       "23806        251     158          NaN      65      18      50              0  \n",
       "23848        180     149          NaN      63      15     172              0  \n",
       "23855        128      63          NaN     172       4     166              0  \n",
       "23884        303     160          NaN     139      26     158              0  "
      ]
     },
     "execution_count": 24,
     "metadata": {},
     "output_type": "execute_result"
    }
   ],
   "source": [
    "### save my filled data in a variable df1_filled_KNN\n",
    "df1_filled_KNN = pd.DataFrame(df1_filled, columns = df1.columns, index = df1.index)\n",
    "missing_gold = df1[df1['gold'].isnull()].index.tolist()\n",
    "### show what my data with missing values looks like\n",
    "df1.loc[missing_gold].head()"
   ]
  },
  {
   "cell_type": "code",
   "execution_count": 25,
   "metadata": {},
   "outputs": [
    {
     "data": {
      "text/html": [
       "<div>\n",
       "<style>\n",
       "    .dataframe thead tr:only-child th {\n",
       "        text-align: right;\n",
       "    }\n",
       "\n",
       "    .dataframe thead th {\n",
       "        text-align: left;\n",
       "    }\n",
       "\n",
       "    .dataframe tbody tr th {\n",
       "        vertical-align: top;\n",
       "    }\n",
       "</style>\n",
       "<table border=\"1\" class=\"dataframe\">\n",
       "  <thead>\n",
       "    <tr style=\"text-align: right;\">\n",
       "      <th></th>\n",
       "      <th>gold</th>\n",
       "      <th>tower_damage</th>\n",
       "      <th>deaths</th>\n",
       "      <th>kills_per_min</th>\n",
       "      <th>assists</th>\n",
       "      <th>level</th>\n",
       "      <th>item_5</th>\n",
       "      <th>last_hits</th>\n",
       "      <th>item_4</th>\n",
       "      <th>hero_damage</th>\n",
       "      <th>item_3</th>\n",
       "      <th>denies</th>\n",
       "      <th>item_1</th>\n",
       "      <th>leaver_status</th>\n",
       "    </tr>\n",
       "  </thead>\n",
       "  <tbody>\n",
       "    <tr>\n",
       "      <th>2722</th>\n",
       "      <td>4333.027786</td>\n",
       "      <td>6438.072927</td>\n",
       "      <td>8.0</td>\n",
       "      <td>0.240370</td>\n",
       "      <td>10.0</td>\n",
       "      <td>25.0</td>\n",
       "      <td>166.0</td>\n",
       "      <td>401.0</td>\n",
       "      <td>116.0</td>\n",
       "      <td>41735.607761</td>\n",
       "      <td>263.0</td>\n",
       "      <td>38.0</td>\n",
       "      <td>135.0</td>\n",
       "      <td>0.0</td>\n",
       "    </tr>\n",
       "    <tr>\n",
       "      <th>23806</th>\n",
       "      <td>2916.752100</td>\n",
       "      <td>1735.416343</td>\n",
       "      <td>3.0</td>\n",
       "      <td>0.485830</td>\n",
       "      <td>12.0</td>\n",
       "      <td>25.0</td>\n",
       "      <td>160.0</td>\n",
       "      <td>251.0</td>\n",
       "      <td>158.0</td>\n",
       "      <td>18601.315328</td>\n",
       "      <td>65.0</td>\n",
       "      <td>18.0</td>\n",
       "      <td>50.0</td>\n",
       "      <td>0.0</td>\n",
       "    </tr>\n",
       "    <tr>\n",
       "      <th>23848</th>\n",
       "      <td>3113.005598</td>\n",
       "      <td>4060.007101</td>\n",
       "      <td>9.0</td>\n",
       "      <td>0.255517</td>\n",
       "      <td>11.0</td>\n",
       "      <td>19.0</td>\n",
       "      <td>166.0</td>\n",
       "      <td>180.0</td>\n",
       "      <td>149.0</td>\n",
       "      <td>17407.336408</td>\n",
       "      <td>63.0</td>\n",
       "      <td>15.0</td>\n",
       "      <td>172.0</td>\n",
       "      <td>0.0</td>\n",
       "    </tr>\n",
       "    <tr>\n",
       "      <th>23855</th>\n",
       "      <td>1956.238240</td>\n",
       "      <td>1381.030026</td>\n",
       "      <td>6.0</td>\n",
       "      <td>0.096192</td>\n",
       "      <td>22.0</td>\n",
       "      <td>18.0</td>\n",
       "      <td>0.0</td>\n",
       "      <td>128.0</td>\n",
       "      <td>63.0</td>\n",
       "      <td>13932.531462</td>\n",
       "      <td>172.0</td>\n",
       "      <td>4.0</td>\n",
       "      <td>166.0</td>\n",
       "      <td>0.0</td>\n",
       "    </tr>\n",
       "    <tr>\n",
       "      <th>23884</th>\n",
       "      <td>3830.605429</td>\n",
       "      <td>3812.242568</td>\n",
       "      <td>4.0</td>\n",
       "      <td>0.333598</td>\n",
       "      <td>11.0</td>\n",
       "      <td>24.0</td>\n",
       "      <td>63.0</td>\n",
       "      <td>303.0</td>\n",
       "      <td>160.0</td>\n",
       "      <td>25026.765631</td>\n",
       "      <td>139.0</td>\n",
       "      <td>26.0</td>\n",
       "      <td>158.0</td>\n",
       "      <td>0.0</td>\n",
       "    </tr>\n",
       "  </tbody>\n",
       "</table>\n",
       "</div>"
      ],
      "text/plain": [
       "              gold  tower_damage  deaths  kills_per_min  assists  level  \\\n",
       "2722   4333.027786   6438.072927     8.0       0.240370     10.0   25.0   \n",
       "23806  2916.752100   1735.416343     3.0       0.485830     12.0   25.0   \n",
       "23848  3113.005598   4060.007101     9.0       0.255517     11.0   19.0   \n",
       "23855  1956.238240   1381.030026     6.0       0.096192     22.0   18.0   \n",
       "23884  3830.605429   3812.242568     4.0       0.333598     11.0   24.0   \n",
       "\n",
       "       item_5  last_hits  item_4   hero_damage  item_3  denies  item_1  \\\n",
       "2722    166.0      401.0   116.0  41735.607761   263.0    38.0   135.0   \n",
       "23806   160.0      251.0   158.0  18601.315328    65.0    18.0    50.0   \n",
       "23848   166.0      180.0   149.0  17407.336408    63.0    15.0   172.0   \n",
       "23855     0.0      128.0    63.0  13932.531462   172.0     4.0   166.0   \n",
       "23884    63.0      303.0   160.0  25026.765631   139.0    26.0   158.0   \n",
       "\n",
       "       leaver_status  \n",
       "2722             0.0  \n",
       "23806            0.0  \n",
       "23848            0.0  \n",
       "23855            0.0  \n",
       "23884            0.0  "
      ]
     },
     "execution_count": 25,
     "metadata": {},
     "output_type": "execute_result"
    }
   ],
   "source": [
    "### show what my data after being filled looks like\n",
    "df1_filled_KNN.loc[missing_gold].head()"
   ]
  },
  {
   "cell_type": "markdown",
   "metadata": {},
   "source": [
    "## Training\n",
    "In this section, I will train a few seperate models and their ensemble model on my trainning dataset. The goal is to classify my wins and losses based on the features I have extracted"
   ]
  },
  {
   "cell_type": "code",
   "execution_count": 27,
   "metadata": {},
   "outputs": [
    {
     "name": "stdout",
     "output_type": "stream",
     "text": [
      "(2947, 13) (2947,)\n",
      "(2947, 13) (2947,)\n"
     ]
    },
    {
     "name": "stderr",
     "output_type": "stream",
     "text": [
      "C:\\Users\\tnguy\\Anaconda3\\lib\\site-packages\\sklearn\\cross_validation.py:41: DeprecationWarning: This module was deprecated in version 0.18 in favor of the model_selection module into which all the refactored classes and functions are moved. Also note that the interface of the new CV iterators are different from that of this module. This module will be removed in 0.20.\n",
      "  \"This module will be removed in 0.20.\", DeprecationWarning)\n"
     ]
    }
   ],
   "source": [
    "### shuffle the data and the label sets then group them into train_data list\n",
    "from sklearn.utils import shuffle\n",
    "from sklearn.cross_validation import train_test_split\n",
    "data, label = shuffle(df1_filled_KNN, df_my_match['win'], random_state=4)\n",
    "data1, label1 = shuffle(df_simple, df_my_match['win'], random_state=4)\n",
    "train_data = [data, label]\n",
    "train_data1 = [data1, label1]\n",
    "print(train_data[0].shape, train_data[1].shape)\n",
    "print(train_data1[0].shape, train_data1[1].shape)"
   ]
  },
  {
   "cell_type": "markdown",
   "metadata": {},
   "source": [
    "There are 2947 matches with 13 features corresponding with 2947 labels"
   ]
  },
  {
   "cell_type": "code",
   "execution_count": 28,
   "metadata": {
    "collapsed": true
   },
   "outputs": [],
   "source": [
    "### split data and label sets into training, validation and test set (simple method)\n",
    "from sklearn import preprocessing\n",
    "(X1,y1) = (train_data1[0], train_data1[1])\n",
    "X1_train, X1_test, y1_train, y1_test = train_test_split(X1, y1, test_size = 0.2, random_state=4)\n",
    "### standardize features for fast and accurate computing\n",
    "X1_train = preprocessing.scale(X1_train)\n",
    "X1_test = preprocessing.scale(X1_test)"
   ]
  },
  {
   "cell_type": "code",
   "execution_count": 29,
   "metadata": {
    "collapsed": true
   },
   "outputs": [],
   "source": [
    "### split data and label sets into training, validation and test set (KNN method)\n",
    "(X,y) = (train_data[0], train_data[1])\n",
    "X_train, X_test, y_train, y_test = train_test_split(X, y, test_size = 0.2, random_state=4)\n",
    "### standardize features for fast and accurate computing\n",
    "X_train = preprocessing.scale(X_train)\n",
    "X_test = preprocessing.scale(X_test)"
   ]
  },
  {
   "cell_type": "code",
   "execution_count": 30,
   "metadata": {},
   "outputs": [
    {
     "data": {
      "text/plain": [
       "VotingClassifier(estimators=[('lr', LogisticRegression(C=1.0, class_weight=None, dual=False, fit_intercept=True,\n",
       "          intercept_scaling=1, max_iter=100, multi_class='ovr', n_jobs=1,\n",
       "          penalty='l2', random_state=4, solver='liblinear', tol=0.0001,\n",
       "          verbose=0, warm_start=False)), ('rf', RandomFore...rbf',\n",
       "  max_iter=-1, probability=True, random_state=4, shrinking=True, tol=0.001,\n",
       "  verbose=False))],\n",
       "         flatten_transform=None, n_jobs=1, voting='hard', weights=None)"
      ]
     },
     "execution_count": 30,
     "metadata": {},
     "output_type": "execute_result"
    }
   ],
   "source": [
    "from sklearn.ensemble import RandomForestClassifier\n",
    "from sklearn.ensemble import VotingClassifier\n",
    "from sklearn.linear_model import LogisticRegression\n",
    "from sklearn.svm import SVC\n",
    "from sklearn.model_selection import train_test_split\n",
    "from sklearn.datasets import make_moons\n",
    "\n",
    "### Create a logistic regression, a random_forest, a support vectormachine and a model that group the results from the previous \n",
    "### three models to classify my win matches.  \n",
    "\n",
    "### modeling using data from simple method\n",
    "log_clf1 = LogisticRegression(random_state=4) \n",
    "rnd_clf1 = RandomForestClassifier(random_state=4)\n",
    "svm_clf1 = SVC(probability = True, random_state=4)\n",
    "\n",
    "voting_clf1 = VotingClassifier(\n",
    "            estimators = [('lr', log_clf1), ('rf', rnd_clf1), ('svc', svm_clf1)],\n",
    "            voting = 'hard')\n",
    "voting_clf1.fit(X1_train, y1_train)\n",
    "### modeling using data generated by KNN method\n",
    "log_clf = LogisticRegression(random_state=4)\n",
    "rnd_clf = RandomForestClassifier(random_state=4)\n",
    "svm_clf = SVC(probability = True, random_state=4)\n",
    "\n",
    "voting_clf = VotingClassifier(\n",
    "            estimators = [('lr', log_clf), ('rf', rnd_clf), ('svc', svm_clf)],\n",
    "            voting = 'hard')\n",
    "voting_clf.fit(X_train, y_train)"
   ]
  },
  {
   "cell_type": "code",
   "execution_count": 31,
   "metadata": {
    "scrolled": true
   },
   "outputs": [
    {
     "name": "stdout",
     "output_type": "stream",
     "text": [
      "LogisticRegression 0.8610169491525423\n",
      "RandomForestClassifier 0.8322033898305085\n",
      "SVC 0.8559322033898306\n"
     ]
    },
    {
     "name": "stderr",
     "output_type": "stream",
     "text": [
      "C:\\Users\\tnguy\\Anaconda3\\lib\\site-packages\\sklearn\\preprocessing\\label.py:151: DeprecationWarning: The truth value of an empty array is ambiguous. Returning False, but in future this will result in an error. Use `array.size > 0` to check that an array is not empty.\n",
      "  if diff:\n"
     ]
    },
    {
     "name": "stdout",
     "output_type": "stream",
     "text": [
      "VotingClassifier 0.8576271186440678\n",
      "____________________________________________________________\n",
      "LogisticRegression 0.8661016949152542\n",
      "RandomForestClassifier 0.8457627118644068\n",
      "SVC 0.864406779661017\n",
      "VotingClassifier 0.8661016949152542\n"
     ]
    },
    {
     "name": "stderr",
     "output_type": "stream",
     "text": [
      "C:\\Users\\tnguy\\Anaconda3\\lib\\site-packages\\sklearn\\preprocessing\\label.py:151: DeprecationWarning: The truth value of an empty array is ambiguous. Returning False, but in future this will result in an error. Use `array.size > 0` to check that an array is not empty.\n",
      "  if diff:\n"
     ]
    }
   ],
   "source": [
    "from sklearn.metrics import accuracy_score\n",
    "### get accuracy scores from each model\n",
    "\n",
    "### accuracy scores for models trained on data from simple method\n",
    "for clf1 in (log_clf1, rnd_clf1, svm_clf1, voting_clf1):\n",
    "    clf1.fit(X1_train, y1_train)\n",
    "    y_pred1 = clf1.predict(X1_test)\n",
    "    print(clf1.__class__.__name__, accuracy_score(y1_test, y_pred1)) \n",
    "print('___'*20)\n",
    "### accuracy scores for models trained on data from KNN method\n",
    "for clf in (log_clf, rnd_clf, svm_clf, voting_clf):\n",
    "    clf.fit(X_train, y_train)\n",
    "    y_pred = clf.predict(X_test)\n",
    "    print(clf.__class__.__name__, accuracy_score(y_test, y_pred)) "
   ]
  },
  {
   "cell_type": "markdown",
   "metadata": {},
   "source": [
    "The results show that the models trained on data filled with values generated by the KNN method slightly perform better than those trained on data generated by the simple method. The difference is approximately 1% in accuracy score. All four models show pretty similar results. "
   ]
  },
  {
   "cell_type": "code",
   "execution_count": 32,
   "metadata": {},
   "outputs": [
    {
     "name": "stdout",
     "output_type": "stream",
     "text": [
      "tower_damage 0.33822217518244385\n",
      "deaths 0.12719198312343774\n",
      "kills_per_min 0.07234714800995017\n",
      "assists 0.10394203083842035\n",
      "level 0.030498753865165318\n",
      "item_5 0.031881466851445425\n",
      "last_hits 0.07095699646093459\n",
      "item_4 0.04026632373336429\n",
      "hero_damage 0.06250629740913491\n",
      "item_3 0.03787464605745757\n",
      "denies 0.04605965160846679\n",
      "item_1 0.03513071112898708\n",
      "leaver_status 0.0031218157307919157\n",
      "_ _ __ _ __ _ __ _ __ _ __ _ __ _ __ _ __ _ __ _ __ _ __ _ __ _ __ _ __ _ __ _ __ _ __ _ __ _ __ _ _\n",
      "tower_damage 0.36796033740051926\n",
      "deaths 0.12256386010178213\n",
      "kills_per_min 0.05670111107387733\n",
      "assists 0.11513371432952821\n",
      "level 0.029998796038713933\n",
      "item_5 0.03342120378501778\n",
      "last_hits 0.06347843199422007\n",
      "item_4 0.031158925111883718\n",
      "hero_damage 0.05674518069460736\n",
      "item_3 0.039199284542274414\n",
      "denies 0.04405334398847801\n",
      "item_1 0.03739227223442823\n",
      "leaver_status 0.002193538704669674\n"
     ]
    }
   ],
   "source": [
    "## print out feature importances from simple method\n",
    "for name, score in zip(X.columns, rnd_clf1.feature_importances_):\n",
    "    print(name,score)\n",
    "print('_ _ _'*20)\n",
    "## print out feature importances from KNN method\n",
    "for name, score in zip(X.columns, rnd_clf.feature_importances_):\n",
    "    print(name,score)"
   ]
  },
  {
   "cell_type": "markdown",
   "metadata": {},
   "source": [
    "###  Findings"
   ]
  },
  {
   "cell_type": "markdown",
   "metadata": {},
   "source": [
    "- **The results show that KNN method perform slightly better than simple missing value handling method.**\n",
    "- **The four most important features are, in descending order, tower_damge, deaths, kills_per_min, assists. Most important is tower_damage which accounts for 33-36%. This shows that Dota2 is a highly objective game. Therefore, in order to win the games and advance my ranking, I need to prioritize objective goals (specifically destroying my opponents' buildings). Moreover, deaths, kills_per_min, assist are fore features that show the skill level as well as understanding of the game of the players. Generally, in order to achieve objectives, players need to perform well in these fields. However, at my ranking level, players are mostly very skilled and knowledgable in their games. Thus, I can treat these features as independent of tower_damage. It would be interesting to see how these features perform in lower ranked matches.**  "
   ]
  },
  {
   "cell_type": "markdown",
   "metadata": {},
   "source": [
    "## Conclusions"
   ]
  },
  {
   "cell_type": "markdown",
   "metadata": {},
   "source": [
    "- ** In order to win and advance in my ranking of Dota2, I need to optimize these four basic features in game: tower_damge, deaths, kills_per_min, assists. The first one is the most important feature and thus is the goal of each game. I need to take priority in taking down my opponents' buildings to win the game. Deaths, kills_per_min and assists rather reflect the personal skill as well as understanding of the game. In order to die less, I obviously need to know how to avoid getting ambushed and know when and where I can engage in combats. Similarly, to increase my kills_per_min and assists, I have to recognize when the appropriate time is to engage in fights and get the most out of it.**\n",
    "- ** The accuracy score of approximately 87% is pretty good. It accounts for a large majority of the games. However, I didn't take into consideration many feature because of the lack of data which could potentially increase the accuracy score of my model. Thus, one potential field of study is the features that have been eliminated from my analysis due to missing values. It might strike you as trivial how much these features could contribute because my accuracy score is already at 87%. But the truth is, for a small minority of the games, these features are often extremely important because they allow me to surpass the current ranking. When it comes to surpassing the current ranking, more often than not, I will be matched with players of higher calibre( the calibre with which I want to be in). Thus, the players in these matches are generally good at optimizing the for basic features. If one wants to win the game, one needs to outperform their opponents in some features. Therefore, the eliminated features from my analysis could help shed light on how to surpass the rank when there is a chance.** \n",
    "- ** The analysis I performed was based on data of public matches where people might or might not put their 100 percent in each game. However, in professional matches, all the players will put their best effort in winning the game. Hence, another potential field to perform analysis is in professional matches.**"
   ]
  }
 ],
 "metadata": {
  "kernelspec": {
   "display_name": "Python 3",
   "language": "python",
   "name": "python3"
  },
  "language_info": {
   "codemirror_mode": {
    "name": "ipython",
    "version": 3
   },
   "file_extension": ".py",
   "mimetype": "text/x-python",
   "name": "python",
   "nbconvert_exporter": "python",
   "pygments_lexer": "ipython3",
   "version": "3.6.3"
  }
 },
 "nbformat": 4,
 "nbformat_minor": 2
}
